{
 "cells": [
  {
   "cell_type": "markdown",
   "metadata": {},
   "source": [
    "# Data reading and preparation over Time "
   ]
  },
  {
   "cell_type": "code",
   "execution_count": 75,
   "metadata": {},
   "outputs": [],
   "source": [
    "# ----------------------data -----------------------------------------#\n",
    "# CFBP analysis \n",
    "import os\n",
    "os.chdir('C:/Users/Rahil/Documents/Data incubator application/application_Oct_2018/CFBP')\n",
    "\n",
    "path=os.getcwd()\n",
    "\n",
    "import pandas as pd\n",
    "\n",
    "\n",
    "filNames= os.listdir()\n",
    "data= pd.read_csv(path+'/'+'Consumer_Complaints.csv')\n",
    "\n",
    "\n",
    "# ----------------------data 2 -----------------------------------------#\n",
    "\n",
    "data2=data.copy()\n",
    "\n",
    "data2['Clean_ZIPcode_5d']=data2['ZIP code'].str.extract('^(\\d{5})$', expand=True)\n",
    "\n",
    "data2['Clean_ZIPcode_5d'].isnull().sum(axis=0)\n",
    "#Out[80]: 472589\n",
    "\n",
    "len(data2['Clean_ZIPcode_5d'].dropna())\n",
    "#Out[8]: 672259\n",
    "\n",
    "data2['Clean_ZIPcode_5_3_d']=data2['ZIP code'].str.extract('^(\\d{3,5}X{,2})$', expand=False)\n",
    "#data2['Clean_ZIPcode_5_3_d'].isnull().sum(axis=0)\n",
    "#Out[91]: 88798\n",
    "len(data2['Clean_ZIPcode_5_3_d'].dropna())\n",
    "pd.notnull(data2['Clean_ZIPcode_5_3_d']).sum(axis=0)\n",
    "#Out[11]: 1056050\n",
    "\n",
    "# if using the 3 digits zipcode with XX at the end as well as 5 digits, then use only       \n",
    "data2['Clean_ZIPcode_5_3_d']=data2['Clean_ZIPcode_5_3_d'].str.slice(start=0, stop=3, step=None)\n",
    "data2['Clean_ZIPcode_5_3_d'].dropna()\n",
    "data2['ZipZone']=data2['Clean_ZIPcode_5_3_d'].str.slice(start=0, stop=1, step=None).astype('category')\n",
    "\n",
    "# ----------------------data _time analysis -----------------------------------------#\n",
    "\n",
    "#deltaT= pd.to_datetime(data['Date sent to company'], format= '%m/%d/%Y')- pd.to_datetime(data['Date received'], format= '%m/%d/%Y')\n",
    "\n",
    "time_resp_Analyse=data.copy()[['Timely response?','Submitted via', 'Consumer disputed?', 'Product' ]]\n",
    "#time_resp_Analyse['deltaTime']=deltaT.dt.days\n",
    "time_resp_Analyse['ZipZone']=data2.copy()['ZipZone']\n",
    "time_resp_Analyse['Y_compl']=pd.to_datetime(data['Date sent to company'], format= '%m/%d/%Y').dt.year\n",
    "time_resp_Analyse['M_compl']=pd.to_datetime(data['Date sent to company'], format= '%m/%d/%Y').dt.month\n",
    "#time_resp_Analyse['deltaTime'].plot(kind='bar')\n",
    "\n",
    "season={'Spring':[3,4,5], 'Summer': [6,7,8], 'Fall': [9,10,11], 'Winter': [12,1,2]}\n",
    "season_s=[]\n",
    "for m in time_resp_Analyse['M_compl']:\n",
    "    if m in season['Spring']:\n",
    "        v='Spring'\n",
    "    elif m in season['Summer']:\n",
    "        v='Summer'\n",
    "    elif m in season['Fall']:\n",
    "        v='Fall'\n",
    "    else:\n",
    "        v='Winter'\n",
    "    season_s.append(v)   \n",
    "time_resp_Analyse['Season']=season_s\n"
   ]
  },
  {
   "cell_type": "code",
   "execution_count": 76,
   "metadata": {},
   "outputs": [],
   "source": [
    "import datetime\n",
    "import numpy as np\n",
    "import pandas as pd\n",
    "import plotly.graph_objs as go\n",
    "import plotly.plotly as py\n",
    "from ipywidgets import widgets\n",
    "from IPython.display import display, clear_output, Image\n",
    "from plotly.widgets import GraphWidget\n",
    "import matplotlib as mpl\n"
   ]
  },
  {
   "cell_type": "markdown",
   "metadata": {},
   "source": [
    "## Define function to plot and interact with widgets and parameters"
   ]
  },
  {
   "cell_type": "code",
   "execution_count": 78,
   "metadata": {},
   "outputs": [
    {
     "data": {
      "application/vnd.jupyter.widget-view+json": {
       "model_id": "b353a87551714b31816cb03819554af7",
       "version_major": 2,
       "version_minor": 0
      },
      "text/plain": [
       "interactive(children=(Dropdown(description='timeStamp', options=('Year', 'Season', 'Month'), value='Year'), Ou…"
      ]
     },
     "metadata": {},
     "output_type": "display_data"
    }
   ],
   "source": [
    "from __future__ import print_function\n",
    "from ipywidgets import interact, interactive, fixed, interact_manual\n",
    "\n",
    "\n",
    "import seaborn as sns        \n",
    "sns.set(style=\"white\")  \n",
    "\n",
    "############### YEAR\n",
    "GB1= time_resp_Analyse.groupby(['Y_compl', 'Product'])['Y_compl'].count().unstack('Product').fillna(0)\n",
    "\n",
    "############### SEASON\n",
    "GB2= time_resp_Analyse.groupby(['Y_compl','Season' ,'Product'])['Season'].count().unstack('Product').fillna(0)\n",
    "   \n",
    "############### MONTH\n",
    "GB3= time_resp_Analyse.groupby(['Y_compl', 'M_compl', 'Product'])['M_compl'].count().unstack('Product').fillna(0)\n",
    "\n",
    "#################\n",
    "\n",
    "\n",
    "\n",
    "def plot_ProductComplains_overTime(timeStamp):\n",
    "    #timeStamp=timeStamp.value\n",
    "    if timeStamp=='Year':\n",
    "        data=GB1\n",
    "    elif timeStamp=='Season':\n",
    "        data=GB2\n",
    "    else :\n",
    "        data=GB3\n",
    "        \n",
    "    return data.plot(kind='bar', stacked=True, figsize=(15,9), \n",
    "             title='The number of complaints for each product over Time:' + timeStamp,\n",
    "             fontsize=17, legend='reverse', rot=-90, sort_columns=True, colormap='gist_ncar')\n",
    "\n",
    "interact(plot_ProductComplains_overTime,timeStamp=['Year', 'Season', 'Month'] )\n",
    "%matplotlib inline\n",
    "#%config InlineBackend.figure_format = 'svg'"
   ]
  },
  {
   "cell_type": "markdown",
   "metadata": {},
   "source": [
    "# Insights from the plots "
   ]
  },
  {
   "cell_type": "markdown",
   "metadata": {},
   "source": [
    "The stacked-bar (histogram) plot can be viewed over years, seasons and months. The goal of this plot was to hypothesize whether the number of complaints over each product is changing over time and if there is a detectable trend based on the year, season or month. \n",
    "\n",
    "\n",
    "By looking at the plot over the years:\n",
    "Apparently during the years, 2 categories namely “checking/saving” is merged with” bank account&service” and the number complaints are almost uniform during the last 6-7 years\n",
    "Debt collection and credit reporting is growing drastically, in 2017 and 2018 is the majority of complains\n",
    "Vehicle loan, student loan and prepaid card complains are growing since 2017\n",
    "Mortgage complaints is shrinking since 2017.\n",
    "\n",
    "\n",
    "Based on SEASONs in each year, the maximum complains happened in the corresponding season as below which doesn’t reveal any specific pattern:\n",
    "2012 -> summer ,\n",
    "2013 -> fall ,\n",
    "2014 -> spring ,\n",
    "2015 -> summer ,\n",
    "2016 ->  fall ,\n",
    "2017 -> fall ,\n",
    "2018 ->  spring .\n",
    "\n",
    "\n"
   ]
  },
  {
   "cell_type": "code",
   "execution_count": null,
   "metadata": {},
   "outputs": [],
   "source": []
  }
 ],
 "metadata": {
  "celltoolbar": "Raw Cell Format",
  "kernelspec": {
   "display_name": "Python 3",
   "language": "python",
   "name": "python3"
  },
  "language_info": {
   "codemirror_mode": {
    "name": "ipython",
    "version": 3
   },
   "file_extension": ".py",
   "mimetype": "text/x-python",
   "name": "python",
   "nbconvert_exporter": "python",
   "pygments_lexer": "ipython3",
   "version": "3.7.0"
  }
 },
 "nbformat": 4,
 "nbformat_minor": 2
}
