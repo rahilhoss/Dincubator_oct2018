{
 "cells": [
  {
   "cell_type": "markdown",
   "metadata": {},
   "source": [
    "# Data reading and preparation over ZIP code data "
   ]
  },
  {
   "cell_type": "code",
   "execution_count": 6,
   "metadata": {},
   "outputs": [
    {
     "name": "stdout",
     "output_type": "stream",
     "text": [
      "Product_Z5d\n",
      "Issue_Z5d\n",
      "Company_Z5d\n",
      "Product_Z3d\n",
      "Issue_Z3d\n",
      "Company_Z3d\n",
      "Product_Z1d\n",
      "Issue_Z1d\n",
      "Company_Z1d\n"
     ]
    }
   ],
   "source": [
    "from __future__ import print_function\n",
    "# CFBP analysis \n",
    "import os\n",
    "os.chdir('C:/Users/Rahil/Documents/Data incubator application/application_Oct_2018/CFBP')\n",
    "\n",
    "path=os.getcwd()\n",
    "\n",
    "import pandas as pd\n",
    "\n",
    "\n",
    "filNames= os.listdir()\n",
    "data= pd.read_csv(path+'/'+'Consumer_Complaints.csv')\n",
    "\n",
    "\n",
    "data['ZIP code']\n",
    "\n",
    "\n",
    "data2=data.copy()\n",
    "\n",
    "data2['Clean_ZIPcode_5d']=data2['ZIP code'].str.extract('^(\\d{5})$', expand=True)\n",
    "\n",
    "data2['Clean_ZIPcode_5d'].isnull().sum(axis=0)\n",
    "#Out[80]: 472589\n",
    "\n",
    "len(data2['Clean_ZIPcode_5d'].dropna())\n",
    "#Out[8]: 672259\n",
    "\n",
    "data2['Clean_ZIPcode_5_3_d']=data2['ZIP code'].str.extract('^(\\d{3,5}X{,2})$', expand=False)\n",
    "#data2['Clean_ZIPcode_5_3_d'].isnull().sum(axis=0)\n",
    "#Out[91]: 88798\n",
    "len(data2['Clean_ZIPcode_5_3_d'].dropna())\n",
    "pd.notnull(data2['Clean_ZIPcode_5_3_d']).sum(axis=0)\n",
    "#Out[11]: 1056050\n",
    "\n",
    "# if using the 3 digits zipcode with XX at the end as well as 5 digits, then use only       \n",
    "data2['Clean_ZIPcode_5_3_d']=data2['Clean_ZIPcode_5_3_d'].str.slice(start=0, stop=3, step=None)\n",
    "data2['Clean_ZIPcode_5_3_d'].dropna()\n",
    "data2['ZipZone']=data2['Clean_ZIPcode_5_3_d'].str.slice(start=0, stop=1, step=None).astype('category')\n",
    "\n",
    "\n",
    "### Pivot table for (Yaxis: product, issue, companies) and ZONE (on Xaxis), values are number of complaints\n",
    "zoneList={'Clean_ZIPcode_5d':'Z5d', 'Clean_ZIPcode_5_3_d':'Z3d', 'ZipZone':'Z1d'}\n",
    "#zoneName=['Z5d', 'Z3d', 'Z1d']\n",
    "yaxisList= ['Product', 'Issue', 'Company']\n",
    "\n",
    "pivotTables_basedZone={}\n",
    "for z in zoneList:\n",
    "    for y in yaxisList:\n",
    "        PT= data2.pivot_table(values='Complaint ID',index= [y], columns= [z],\n",
    "                           aggfunc=len, dropna=True)\n",
    "        PT.fillna(0, inplace=True)\n",
    "        pivotTables_basedZone[y+'_'+zoneList[z]]=PT #pd.to_numeric(PT, errors='raise', downcast='integer')\n",
    "        print(y+'_'+zoneList[z])\n",
    "        "
   ]
  },
  {
   "cell_type": "markdown",
   "metadata": {},
   "source": [
    "## Define function to plot and interact with widgets and parameters"
   ]
  },
  {
   "cell_type": "code",
   "execution_count": 58,
   "metadata": {},
   "outputs": [],
   "source": [
    "import numpy as np\n",
    "import matplotlib.pyplot as plt\n",
    "import pandas as pd   \n",
    "import seaborn as sns\n",
    "sns.set(style=\"white\")  \n",
    "TopNList=np.arange(2,8,1)\n",
    "zoneName='Z1d'\n",
    "yaxisList= ['Product', 'Issue', 'Company']\n"
   ]
  },
  {
   "cell_type": "code",
   "execution_count": 69,
   "metadata": {},
   "outputs": [],
   "source": [
    "def pieChart_ZoneBased_countComplains(source, numSlice):\n",
    "    figs, axs= plt.subplots(nrows=5, ncols=2, squeeze=True, figsize=(12, 16)) #figsize=(25, 45)\n",
    "    dataName=source +'_Z1d'\n",
    "    TopN=numSlice\n",
    "    for zoneI in range(10):\n",
    "        PieData= pivotTables_basedZone[dataName][str(zoneI)].sort_values(ascending=False).iloc[0:TopN].values\n",
    "        PieLabel= pivotTables_basedZone[dataName][str(zoneI)].sort_values(ascending=False).iloc[0:TopN].index\n",
    "        explode=np.zeros((TopN))\n",
    "        explode[0]=0.1\n",
    "        if zoneI<5:\n",
    "            subLoc=[zoneI, 0]\n",
    "        else:\n",
    "            subLoc=[zoneI-5, 1]\n",
    "        patches, texts, autotexts= axs[subLoc[0]][subLoc[1]].pie(PieData, explode=explode, labels=PieLabel, autopct='%1.1f%%',\n",
    "                                      shadow=False, startangle=90)\n",
    "        plt.setp(autotexts, size=14)\n",
    "        autotexts[0].set_color('white')\n",
    "        plt.setp(texts, size=12)\n",
    "    #    plt.setp(patches, size='medium')\n",
    "        axs[subLoc[0]][subLoc[1]].axis('equal')\n",
    "        axs[subLoc[0]][subLoc[1]].set_title('Top %d %s for zone %d'%((TopN,dataName, zoneI)), fontweight=\"bold\", size=16)\n",
    "\n",
    "        \n",
    "       \n"
   ]
  },
  {
   "cell_type": "code",
   "execution_count": 70,
   "metadata": {},
   "outputs": [
    {
     "data": {
      "application/vnd.jupyter.widget-view+json": {
       "model_id": "b8dec062c53e45eca8aa919be31c496d",
       "version_major": 2,
       "version_minor": 0
      },
      "text/plain": [
       "interactive(children=(Dropdown(description='source', options=('Product', 'Issue', 'Company'), value='Product')…"
      ]
     },
     "metadata": {},
     "output_type": "display_data"
    }
   ],
   "source": [
    "from ipywidgets import widgets\n",
    "from IPython.display import display, clear_output, Image\n",
    "from plotly.widgets import GraphWidget\n",
    "from ipywidgets import interact, interactive, fixed, interact_manual\n",
    "\n",
    "interact(pieChart_ZoneBased_countComplains,source=yaxisList, numSlice= (2,5))\n",
    "#%matplotlib inline\n",
    "%config InlineBackend.figure_format = 'svg'"
   ]
  },
  {
   "cell_type": "markdown",
   "metadata": {},
   "source": [
    "## Insights from observing the plots"
   ]
  },
  {
   "cell_type": "markdown",
   "metadata": {},
   "source": [
    "This is the Pie chart to show the total number of complains per (product or issue or company), for each zone (first digit of a ZIP code) which starts from 0 in the east coast to 9 in the west coast. The reason for this plots is that I hypothesizes that complaint can reveal a pattern for each zone based on the property of the location. We can change the top number of results with the greatest number of complaints by changing the numSclice\n",
    "\n",
    "If source is selected to be “Product” and number of slices on the Pie is 3 : \n",
    "The top 3 highest complains are from mortgage, debt and credit for all zones except Zone 7 which doesn’t have mortgage as top 3.\n",
    "\n",
    "If source is selected to be “Issue” and number of slices on the Pie is 3 : \n",
    "The top 3 issue are loan modification, incorrect info on credit report, loan service and payment, except for Zone 7 which shows the third issue as continued attempt collect debt.\n",
    "\n",
    "If the source is selected to be “company”, and number of slices on the Pie is 3 : \n",
    "Top 3 companies with the most complaints are bank of America, Equifax, wellsfargo, and in the second rank transunion,Experian information\n",
    "\n",
    "\n",
    "With this data and with this visualization, it appears that ZIPcodes (zones) are not statistically different from each other in the matter of number of complains in products, issues and companies. \n"
   ]
  },
  {
   "cell_type": "code",
   "execution_count": null,
   "metadata": {},
   "outputs": [],
   "source": []
  }
 ],
 "metadata": {
  "kernelspec": {
   "display_name": "Python 3",
   "language": "python",
   "name": "python3"
  },
  "language_info": {
   "codemirror_mode": {
    "name": "ipython",
    "version": 3
   },
   "file_extension": ".py",
   "mimetype": "text/x-python",
   "name": "python",
   "nbconvert_exporter": "python",
   "pygments_lexer": "ipython3",
   "version": "3.7.0"
  }
 },
 "nbformat": 4,
 "nbformat_minor": 2
}
